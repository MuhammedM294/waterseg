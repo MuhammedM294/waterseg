{
 "cells": [
  {
   "cell_type": "code",
   "execution_count": 1,
   "metadata": {},
   "outputs": [],
   "source": [
    "from torch.utils.data import Dataset, DataLoader\n",
    "from torchvision import transforms\n",
    "import pandas as pd\n",
    "import numpy as np\n",
    "import cv2\n",
    "import os\n",
    "import torch\n",
    "import albumentations as A\n",
    "original_shape = (4493, 5871)\n",
    "IMAGE_SIZE = (1408,1056)\n",
    "import matplotlib.pyplot as plt\n",
    "device = torch.device(\"cuda\" if torch.cuda.is_available() else \"cpu\")\n",
    "from torch.optim import Adam ,lr_scheduler\n",
    "df = pd.read_csv('data/metadata.csv')"
   ]
  },
  {
   "cell_type": "code",
   "execution_count": 2,
   "metadata": {},
   "outputs": [],
   "source": [
    "from src.models.model import UNet\n",
    "model = UNet(encoder_name='timm-efficientnet-b0', encoder_weights='imagenet', in_channels=1, classes=1, activation=None)\n",
    "model.to(device)\n",
    "optimizer = Adam(model.parameters(), lr=1e-2)\n",
    "scheduler = lr_scheduler.ReduceLROnPlateau(\n",
    "    optimizer,                                 \n",
    "    factor=0.5 ,                                \n",
    "    patience=0 , \n",
    "    threshold=0.01,                            \n",
    "    verbose=True , \n",
    "    min_lr=1e-5 ,                               \n",
    "    threshold_mode='abs')"
   ]
  },
  {
   "cell_type": "code",
   "execution_count": 3,
   "metadata": {},
   "outputs": [
    {
     "name": "stdout",
     "output_type": "stream",
     "text": [
      "torch.Size([1, 1, 1056, 1408])\n",
      "torch.Size([1, 1, 1056, 1408])\n",
      "torch.Size([1, 1, 1056, 1408])\n",
      "torch.Size([1, 1, 1056, 1408])\n"
     ]
    }
   ],
   "source": [
    "from src.data.dataset import create_dataloader , train_augmentation\n",
    "from src.models.train_model import*\n",
    "from src.models.eval_model import*\n",
    "train_dl = create_dataloader(df, \n",
    "                            train=True,\n",
    "                            resize=IMAGE_SIZE,\n",
    "                            augment=train_augmentation, \n",
    "                            batch_size=1)\n",
    "                        \n",
    "test_dl = create_dataloader(df, \n",
    "                            train=False,\n",
    "                            resize=IMAGE_SIZE,\n",
    "                            augment=None,\n",
    "                            batch_size=1)\n",
    "for image , mask in train_dl:\n",
    "    print(image.shape)\n",
    "    print(mask.shape)\n",
    "    break\n",
    "for image , mask in test_dl:\n",
    "    print(image.shape)\n",
    "    print(mask.shape)\n",
    "    break\n",
    "                           "
   ]
  },
  {
   "cell_type": "code",
   "execution_count": 5,
   "metadata": {},
   "outputs": [
    {
     "name": "stdout",
     "output_type": "stream",
     "text": [
      "Epoch: 1:\n"
     ]
    },
    {
     "name": "stderr",
     "output_type": "stream",
     "text": [
      "100%|██████████| 70/70 [01:27<00:00,  1.25s/it]\n"
     ]
    },
    {
     "name": "stdout",
     "output_type": "stream",
     "text": [
      "Epoch Metrics Saved!\n"
     ]
    },
    {
     "name": "stderr",
     "output_type": "stream",
     "text": [
      "100%|██████████| 20/20 [00:15<00:00,  1.29it/s]\n"
     ]
    },
    {
     "name": "stdout",
     "output_type": "stream",
     "text": [
      "Epoch Metrics Saved!\n",
      "\n",
      "\n",
      "     Train/Valid\n",
      "       Loss: 0.535 | 0.324\n",
      "       accuracy: 0.971 | 0.971\n",
      "       precision: 0.673 | 0.777\n",
      "       recall: 0.705 | 0.857\n",
      "       f1_score: 0.593 | 0.789\n",
      "       specificity: 0.987 | 0.976\n",
      "       iou: 0.475 | 0.675\n",
      "Model Saved\n",
      "============================================================\n",
      "Epoch: 2:\n"
     ]
    },
    {
     "name": "stderr",
     "output_type": "stream",
     "text": [
      "100%|██████████| 70/70 [00:53<00:00,  1.31it/s]\n"
     ]
    },
    {
     "name": "stdout",
     "output_type": "stream",
     "text": [
      "Epoch Metrics Saved!\n"
     ]
    },
    {
     "name": "stderr",
     "output_type": "stream",
     "text": [
      "100%|██████████| 20/20 [00:10<00:00,  1.85it/s]\n"
     ]
    },
    {
     "name": "stdout",
     "output_type": "stream",
     "text": [
      "Epoch Metrics Saved!\n",
      "Epoch 00002: reducing learning rate of group 0 to 5.0000e-03.\n",
      "\n",
      "\n",
      "     Train/Valid\n",
      "       Loss: 0.285 | 0.374\n",
      "       accuracy: 0.979 | 0.969\n",
      "       precision: 0.756 | 0.763\n",
      "       recall: 0.750 | 0.862\n",
      "       f1_score: 0.697 | 0.780\n",
      "       specificity: 0.991 | 0.974\n",
      "       iou: 0.581 | 0.662\n",
      "============================================================\n",
      "Epoch: 3:\n"
     ]
    },
    {
     "name": "stderr",
     "output_type": "stream",
     "text": [
      "100%|██████████| 70/70 [00:53<00:00,  1.30it/s]\n"
     ]
    },
    {
     "name": "stdout",
     "output_type": "stream",
     "text": [
      "Epoch Metrics Saved!\n"
     ]
    },
    {
     "name": "stderr",
     "output_type": "stream",
     "text": [
      "100%|██████████| 20/20 [00:10<00:00,  1.85it/s]\n"
     ]
    },
    {
     "name": "stdout",
     "output_type": "stream",
     "text": [
      "Epoch Metrics Saved!\n",
      "\n",
      "\n",
      "     Train/Valid\n",
      "       Loss: 0.244 | 0.267\n",
      "       accuracy: 0.982 | 0.972\n",
      "       precision: 0.784 | 0.786\n",
      "       recall: 0.780 | 0.859\n",
      "       f1_score: 0.739 | 0.794\n",
      "       specificity: 0.993 | 0.977\n",
      "       iou: 0.627 | 0.681\n",
      "Model Saved\n",
      "============================================================\n",
      "Epoch: 4:\n"
     ]
    },
    {
     "name": "stderr",
     "output_type": "stream",
     "text": [
      "100%|██████████| 70/70 [00:53<00:00,  1.31it/s]\n"
     ]
    },
    {
     "name": "stdout",
     "output_type": "stream",
     "text": [
      "Epoch Metrics Saved!\n"
     ]
    },
    {
     "name": "stderr",
     "output_type": "stream",
     "text": [
      "100%|██████████| 20/20 [00:11<00:00,  1.79it/s]\n"
     ]
    },
    {
     "name": "stdout",
     "output_type": "stream",
     "text": [
      "Epoch Metrics Saved!\n",
      "Epoch 00004: reducing learning rate of group 0 to 2.5000e-03.\n",
      "\n",
      "\n",
      "     Train/Valid\n",
      "       Loss: 0.173 | 0.291\n",
      "       accuracy: 0.984 | 0.972\n",
      "       precision: 0.808 | 0.785\n",
      "       recall: 0.805 | 0.865\n",
      "       f1_score: 0.773 | 0.800\n",
      "       specificity: 0.994 | 0.977\n",
      "       iou: 0.666 | 0.687\n",
      "============================================================\n",
      "Epoch: 5:\n"
     ]
    },
    {
     "name": "stderr",
     "output_type": "stream",
     "text": [
      "100%|██████████| 70/70 [00:53<00:00,  1.30it/s]\n"
     ]
    },
    {
     "name": "stdout",
     "output_type": "stream",
     "text": [
      "Epoch Metrics Saved!\n"
     ]
    },
    {
     "name": "stderr",
     "output_type": "stream",
     "text": [
      "100%|██████████| 20/20 [00:11<00:00,  1.80it/s]\n"
     ]
    },
    {
     "name": "stdout",
     "output_type": "stream",
     "text": [
      "Epoch Metrics Saved!\n",
      "Epoch 00005: reducing learning rate of group 0 to 1.2500e-03.\n",
      "\n",
      "\n",
      "     Train/Valid\n",
      "       Loss: 0.144 | 0.290\n",
      "       accuracy: 0.986 | 0.973\n",
      "       precision: 0.828 | 0.792\n",
      "       recall: 0.823 | 0.861\n",
      "       f1_score: 0.798 | 0.805\n",
      "       specificity: 0.994 | 0.978\n",
      "       iou: 0.696 | 0.691\n",
      "============================================================\n",
      "Epoch: 6:\n"
     ]
    },
    {
     "name": "stderr",
     "output_type": "stream",
     "text": [
      "100%|██████████| 70/70 [00:53<00:00,  1.30it/s]\n"
     ]
    },
    {
     "name": "stdout",
     "output_type": "stream",
     "text": [
      "Epoch Metrics Saved!\n"
     ]
    },
    {
     "name": "stderr",
     "output_type": "stream",
     "text": [
      "100%|██████████| 20/20 [00:11<00:00,  1.81it/s]\n"
     ]
    },
    {
     "name": "stdout",
     "output_type": "stream",
     "text": [
      "Epoch Metrics Saved!\n",
      "\n",
      "\n",
      "     Train/Valid\n",
      "       Loss: 0.131 | 0.213\n",
      "       accuracy: 0.987 | 0.974\n",
      "       precision: 0.842 | 0.803\n",
      "       recall: 0.836 | 0.866\n",
      "       f1_score: 0.816 | 0.814\n",
      "       specificity: 0.995 | 0.979\n",
      "       iou: 0.719 | 0.705\n",
      "Model Saved\n",
      "============================================================\n",
      "Epoch: 7:\n"
     ]
    },
    {
     "name": "stderr",
     "output_type": "stream",
     "text": [
      "100%|██████████| 70/70 [00:52<00:00,  1.32it/s]\n"
     ]
    },
    {
     "name": "stdout",
     "output_type": "stream",
     "text": [
      "Epoch Metrics Saved!\n"
     ]
    },
    {
     "name": "stderr",
     "output_type": "stream",
     "text": [
      "100%|██████████| 20/20 [00:10<00:00,  1.88it/s]\n"
     ]
    },
    {
     "name": "stdout",
     "output_type": "stream",
     "text": [
      "Epoch Metrics Saved!\n",
      "Epoch 00007: reducing learning rate of group 0 to 6.2500e-04.\n",
      "\n",
      "\n",
      "     Train/Valid\n",
      "       Loss: 0.129 | 0.263\n",
      "       accuracy: 0.988 | 0.975\n",
      "       precision: 0.852 | 0.807\n",
      "       recall: 0.846 | 0.865\n",
      "       f1_score: 0.829 | 0.818\n",
      "       specificity: 0.995 | 0.980\n",
      "       iou: 0.735 | 0.709\n",
      "============================================================\n",
      "Epoch: 8:\n"
     ]
    },
    {
     "name": "stderr",
     "output_type": "stream",
     "text": [
      "100%|██████████| 70/70 [00:51<00:00,  1.35it/s]\n"
     ]
    },
    {
     "name": "stdout",
     "output_type": "stream",
     "text": [
      "Epoch Metrics Saved!\n"
     ]
    },
    {
     "name": "stderr",
     "output_type": "stream",
     "text": [
      "100%|██████████| 20/20 [00:10<00:00,  1.87it/s]\n"
     ]
    },
    {
     "name": "stdout",
     "output_type": "stream",
     "text": [
      "Epoch Metrics Saved!\n",
      "Epoch 00008: reducing learning rate of group 0 to 3.1250e-04.\n",
      "\n",
      "\n",
      "     Train/Valid\n",
      "       Loss: 0.127 | 0.325\n",
      "       accuracy: 0.989 | 0.974\n",
      "       precision: 0.859 | 0.802\n",
      "       recall: 0.853 | 0.869\n",
      "       f1_score: 0.839 | 0.817\n",
      "       specificity: 0.995 | 0.979\n",
      "       iou: 0.747 | 0.708\n",
      "============================================================\n",
      "Epoch: 9:\n"
     ]
    },
    {
     "name": "stderr",
     "output_type": "stream",
     "text": [
      "100%|██████████| 70/70 [00:51<00:00,  1.35it/s]\n"
     ]
    },
    {
     "name": "stdout",
     "output_type": "stream",
     "text": [
      "Epoch Metrics Saved!\n"
     ]
    },
    {
     "name": "stderr",
     "output_type": "stream",
     "text": [
      "100%|██████████| 20/20 [00:10<00:00,  1.91it/s]\n"
     ]
    },
    {
     "name": "stdout",
     "output_type": "stream",
     "text": [
      "Epoch Metrics Saved!\n",
      "Epoch 00009: reducing learning rate of group 0 to 1.5625e-04.\n",
      "\n",
      "\n",
      "     Train/Valid\n",
      "       Loss: 0.121 | 0.217\n",
      "       accuracy: 0.989 | 0.975\n",
      "       precision: 0.866 | 0.808\n",
      "       recall: 0.859 | 0.871\n",
      "       f1_score: 0.847 | 0.822\n",
      "       specificity: 0.995 | 0.980\n",
      "       iou: 0.757 | 0.715\n",
      "============================================================\n",
      "Epoch: 10:\n"
     ]
    },
    {
     "name": "stderr",
     "output_type": "stream",
     "text": [
      "100%|██████████| 70/70 [00:51<00:00,  1.35it/s]\n"
     ]
    },
    {
     "name": "stdout",
     "output_type": "stream",
     "text": [
      "Epoch Metrics Saved!\n"
     ]
    },
    {
     "name": "stderr",
     "output_type": "stream",
     "text": [
      "100%|██████████| 20/20 [00:10<00:00,  1.93it/s]\n"
     ]
    },
    {
     "name": "stdout",
     "output_type": "stream",
     "text": [
      "Epoch Metrics Saved!\n",
      "Epoch 00010: reducing learning rate of group 0 to 7.8125e-05.\n",
      "\n",
      "\n",
      "     Train/Valid\n",
      "       Loss: 0.118 | 0.256\n",
      "       accuracy: 0.990 | 0.975\n",
      "       precision: 0.871 | 0.809\n",
      "       recall: 0.865 | 0.872\n",
      "       f1_score: 0.854 | 0.825\n",
      "       specificity: 0.995 | 0.980\n",
      "       iou: 0.766 | 0.718\n",
      "============================================================\n",
      "Epoch: 11:\n"
     ]
    },
    {
     "name": "stderr",
     "output_type": "stream",
     "text": [
      "100%|██████████| 70/70 [00:52<00:00,  1.34it/s]\n"
     ]
    },
    {
     "name": "stdout",
     "output_type": "stream",
     "text": [
      "Epoch Metrics Saved!\n"
     ]
    },
    {
     "name": "stderr",
     "output_type": "stream",
     "text": [
      "100%|██████████| 20/20 [00:10<00:00,  1.90it/s]\n"
     ]
    },
    {
     "name": "stdout",
     "output_type": "stream",
     "text": [
      "Epoch Metrics Saved!\n",
      "Epoch 00011: reducing learning rate of group 0 to 3.9063e-05.\n",
      "\n",
      "\n",
      "     Train/Valid\n",
      "       Loss: 0.126 | 0.264\n",
      "       accuracy: 0.990 | 0.975\n",
      "       precision: 0.875 | 0.810\n",
      "       recall: 0.869 | 0.873\n",
      "       f1_score: 0.859 | 0.826\n",
      "       specificity: 0.996 | 0.980\n",
      "       iou: 0.772 | 0.719\n",
      "============================================================\n",
      "Epoch: 12:\n"
     ]
    },
    {
     "name": "stderr",
     "output_type": "stream",
     "text": [
      "100%|██████████| 70/70 [00:52<00:00,  1.34it/s]\n"
     ]
    },
    {
     "name": "stdout",
     "output_type": "stream",
     "text": [
      "Epoch Metrics Saved!\n"
     ]
    },
    {
     "name": "stderr",
     "output_type": "stream",
     "text": [
      "100%|██████████| 20/20 [00:10<00:00,  1.87it/s]\n"
     ]
    },
    {
     "name": "stdout",
     "output_type": "stream",
     "text": [
      "Epoch Metrics Saved!\n",
      "Epoch 00012: reducing learning rate of group 0 to 1.9531e-05.\n",
      "\n",
      "\n",
      "     Train/Valid\n",
      "       Loss: 0.120 | 0.305\n",
      "       accuracy: 0.990 | 0.975\n",
      "       precision: 0.878 | 0.809\n",
      "       recall: 0.873 | 0.873\n",
      "       f1_score: 0.863 | 0.826\n",
      "       specificity: 0.996 | 0.980\n",
      "       iou: 0.778 | 0.719\n",
      "============================================================\n",
      "Epoch: 13:\n"
     ]
    },
    {
     "name": "stderr",
     "output_type": "stream",
     "text": [
      "100%|██████████| 70/70 [00:52<00:00,  1.34it/s]\n"
     ]
    },
    {
     "name": "stdout",
     "output_type": "stream",
     "text": [
      "Epoch Metrics Saved!\n"
     ]
    },
    {
     "name": "stderr",
     "output_type": "stream",
     "text": [
      "100%|██████████| 20/20 [00:10<00:00,  1.86it/s]\n"
     ]
    },
    {
     "name": "stdout",
     "output_type": "stream",
     "text": [
      "Epoch Metrics Saved!\n",
      "Epoch 00013: reducing learning rate of group 0 to 1.0000e-05.\n",
      "\n",
      "\n",
      "     Train/Valid\n",
      "       Loss: 0.119 | 0.249\n",
      "       accuracy: 0.990 | 0.975\n",
      "       precision: 0.881 | 0.811\n",
      "       recall: 0.875 | 0.873\n",
      "       f1_score: 0.867 | 0.828\n",
      "       specificity: 0.996 | 0.980\n",
      "       iou: 0.783 | 0.721\n",
      "============================================================\n",
      "Epoch: 14:\n"
     ]
    },
    {
     "name": "stderr",
     "output_type": "stream",
     "text": [
      "100%|██████████| 70/70 [00:51<00:00,  1.36it/s]\n"
     ]
    },
    {
     "name": "stdout",
     "output_type": "stream",
     "text": [
      "Epoch Metrics Saved!\n"
     ]
    },
    {
     "name": "stderr",
     "output_type": "stream",
     "text": [
      "100%|██████████| 20/20 [00:10<00:00,  1.92it/s]\n"
     ]
    },
    {
     "name": "stdout",
     "output_type": "stream",
     "text": [
      "Epoch Metrics Saved!\n",
      "\n",
      "\n",
      "     Train/Valid\n",
      "       Loss: 0.121 | 0.500\n",
      "       accuracy: 0.991 | 0.974\n",
      "       precision: 0.884 | 0.802\n",
      "       recall: 0.878 | 0.875\n",
      "       f1_score: 0.871 | 0.823\n",
      "       specificity: 0.996 | 0.978\n",
      "       iou: 0.787 | 0.714\n",
      "============================================================\n",
      "Epoch: 15:\n"
     ]
    },
    {
     "name": "stderr",
     "output_type": "stream",
     "text": [
      "100%|██████████| 70/70 [00:52<00:00,  1.34it/s]\n"
     ]
    },
    {
     "name": "stdout",
     "output_type": "stream",
     "text": [
      "Epoch Metrics Saved!\n"
     ]
    },
    {
     "name": "stderr",
     "output_type": "stream",
     "text": [
      "100%|██████████| 20/20 [00:10<00:00,  1.86it/s]\n"
     ]
    },
    {
     "name": "stdout",
     "output_type": "stream",
     "text": [
      "Epoch Metrics Saved!\n",
      "\n",
      "\n",
      "     Train/Valid\n",
      "       Loss: 0.120 | 0.210\n",
      "       accuracy: 0.991 | 0.974\n",
      "       precision: 0.886 | 0.806\n",
      "       recall: 0.880 | 0.875\n",
      "       f1_score: 0.873 | 0.826\n",
      "       specificity: 0.996 | 0.979\n",
      "       iou: 0.791 | 0.719\n",
      "Model Saved\n",
      "============================================================\n",
      "Epoch: 16:\n"
     ]
    },
    {
     "name": "stderr",
     "output_type": "stream",
     "text": [
      "100%|██████████| 70/70 [00:52<00:00,  1.34it/s]\n"
     ]
    },
    {
     "name": "stdout",
     "output_type": "stream",
     "text": [
      "Epoch Metrics Saved!\n"
     ]
    },
    {
     "name": "stderr",
     "output_type": "stream",
     "text": [
      "100%|██████████| 20/20 [00:10<00:00,  1.86it/s]\n"
     ]
    },
    {
     "name": "stdout",
     "output_type": "stream",
     "text": [
      "Epoch Metrics Saved!\n",
      "\n",
      "\n",
      "     Train/Valid\n",
      "       Loss: 0.119 | 0.439\n",
      "       accuracy: 0.991 | 0.974\n",
      "       precision: 0.888 | 0.800\n",
      "       recall: 0.882 | 0.875\n",
      "       f1_score: 0.876 | 0.823\n",
      "       specificity: 0.996 | 0.978\n",
      "       iou: 0.794 | 0.714\n",
      "============================================================\n",
      "Epoch: 17:\n"
     ]
    },
    {
     "name": "stderr",
     "output_type": "stream",
     "text": [
      "100%|██████████| 70/70 [00:51<00:00,  1.35it/s]\n"
     ]
    },
    {
     "name": "stdout",
     "output_type": "stream",
     "text": [
      "Epoch Metrics Saved!\n"
     ]
    },
    {
     "name": "stderr",
     "output_type": "stream",
     "text": [
      "100%|██████████| 20/20 [00:10<00:00,  1.93it/s]\n"
     ]
    },
    {
     "name": "stdout",
     "output_type": "stream",
     "text": [
      "Epoch Metrics Saved!\n",
      "\n",
      "\n",
      "     Train/Valid\n",
      "       Loss: 0.121 | 0.283\n",
      "       accuracy: 0.991 | 0.974\n",
      "       precision: 0.890 | 0.800\n",
      "       recall: 0.883 | 0.876\n",
      "       f1_score: 0.878 | 0.823\n",
      "       specificity: 0.996 | 0.978\n",
      "       iou: 0.797 | 0.715\n",
      "============================================================\n",
      "Epoch: 18:\n"
     ]
    },
    {
     "name": "stderr",
     "output_type": "stream",
     "text": [
      "100%|██████████| 70/70 [00:52<00:00,  1.34it/s]\n"
     ]
    },
    {
     "name": "stdout",
     "output_type": "stream",
     "text": [
      "Epoch Metrics Saved!\n"
     ]
    },
    {
     "name": "stderr",
     "output_type": "stream",
     "text": [
      "100%|██████████| 20/20 [00:10<00:00,  1.88it/s]\n"
     ]
    },
    {
     "name": "stdout",
     "output_type": "stream",
     "text": [
      "Epoch Metrics Saved!\n",
      "\n",
      "\n",
      "     Train/Valid\n",
      "       Loss: 0.117 | 0.285\n",
      "       accuracy: 0.991 | 0.974\n",
      "       precision: 0.892 | 0.800\n",
      "       recall: 0.885 | 0.877\n",
      "       f1_score: 0.880 | 0.824\n",
      "       specificity: 0.996 | 0.978\n",
      "       iou: 0.799 | 0.715\n",
      "============================================================\n",
      "Epoch: 19:\n"
     ]
    },
    {
     "name": "stderr",
     "output_type": "stream",
     "text": [
      "100%|██████████| 70/70 [00:52<00:00,  1.35it/s]\n"
     ]
    },
    {
     "name": "stdout",
     "output_type": "stream",
     "text": [
      "Epoch Metrics Saved!\n"
     ]
    },
    {
     "name": "stderr",
     "output_type": "stream",
     "text": [
      "100%|██████████| 20/20 [00:10<00:00,  1.93it/s]\n"
     ]
    },
    {
     "name": "stdout",
     "output_type": "stream",
     "text": [
      "Epoch Metrics Saved!\n",
      "\n",
      "\n",
      "     Train/Valid\n",
      "       Loss: 0.122 | 0.271\n",
      "       accuracy: 0.991 | 0.974\n",
      "       precision: 0.893 | 0.800\n",
      "       recall: 0.886 | 0.878\n",
      "       f1_score: 0.882 | 0.824\n",
      "       specificity: 0.996 | 0.978\n",
      "       iou: 0.802 | 0.716\n",
      "============================================================\n",
      "Epoch: 20:\n"
     ]
    },
    {
     "name": "stderr",
     "output_type": "stream",
     "text": [
      "100%|██████████| 70/70 [00:52<00:00,  1.35it/s]\n"
     ]
    },
    {
     "name": "stdout",
     "output_type": "stream",
     "text": [
      "Epoch Metrics Saved!\n"
     ]
    },
    {
     "name": "stderr",
     "output_type": "stream",
     "text": [
      "100%|██████████| 20/20 [00:10<00:00,  1.93it/s]\n"
     ]
    },
    {
     "name": "stdout",
     "output_type": "stream",
     "text": [
      "Epoch Metrics Saved!\n",
      "\n",
      "\n",
      "     Train/Valid\n",
      "       Loss: 0.119 | 0.407\n",
      "       accuracy: 0.991 | 0.973\n",
      "       precision: 0.894 | 0.796\n",
      "       recall: 0.887 | 0.878\n",
      "       f1_score: 0.883 | 0.822\n",
      "       specificity: 0.996 | 0.977\n",
      "       iou: 0.804 | 0.714\n",
      "============================================================\n",
      "Epoch: 21:\n"
     ]
    },
    {
     "name": "stderr",
     "output_type": "stream",
     "text": [
      "100%|██████████| 70/70 [00:51<00:00,  1.35it/s]\n"
     ]
    },
    {
     "name": "stdout",
     "output_type": "stream",
     "text": [
      "Epoch Metrics Saved!\n"
     ]
    },
    {
     "name": "stderr",
     "output_type": "stream",
     "text": [
      "100%|██████████| 20/20 [00:10<00:00,  1.85it/s]\n"
     ]
    },
    {
     "name": "stdout",
     "output_type": "stream",
     "text": [
      "Epoch Metrics Saved!\n",
      "\n",
      "\n",
      "     Train/Valid\n",
      "       Loss: 0.118 | 0.244\n",
      "       accuracy: 0.992 | 0.973\n",
      "       precision: 0.895 | 0.798\n",
      "       recall: 0.889 | 0.879\n",
      "       f1_score: 0.885 | 0.824\n",
      "       specificity: 0.996 | 0.978\n",
      "       iou: 0.806 | 0.715\n",
      "============================================================\n",
      "Epoch: 22:\n"
     ]
    },
    {
     "name": "stderr",
     "output_type": "stream",
     "text": [
      "100%|██████████| 70/70 [00:52<00:00,  1.35it/s]\n"
     ]
    },
    {
     "name": "stdout",
     "output_type": "stream",
     "text": [
      "Epoch Metrics Saved!\n"
     ]
    },
    {
     "name": "stderr",
     "output_type": "stream",
     "text": [
      "100%|██████████| 20/20 [00:10<00:00,  1.85it/s]\n"
     ]
    },
    {
     "name": "stdout",
     "output_type": "stream",
     "text": [
      "Epoch Metrics Saved!\n",
      "\n",
      "\n",
      "     Train/Valid\n",
      "       Loss: 0.122 | 0.319\n",
      "       accuracy: 0.992 | 0.973\n",
      "       precision: 0.896 | 0.797\n",
      "       recall: 0.890 | 0.879\n",
      "       f1_score: 0.886 | 0.824\n",
      "       specificity: 0.996 | 0.978\n",
      "       iou: 0.807 | 0.715\n",
      "============================================================\n",
      "Epoch: 23:\n"
     ]
    },
    {
     "name": "stderr",
     "output_type": "stream",
     "text": [
      "100%|██████████| 70/70 [00:51<00:00,  1.35it/s]\n"
     ]
    },
    {
     "name": "stdout",
     "output_type": "stream",
     "text": [
      "Epoch Metrics Saved!\n"
     ]
    },
    {
     "name": "stderr",
     "output_type": "stream",
     "text": [
      "100%|██████████| 20/20 [00:10<00:00,  1.93it/s]\n"
     ]
    },
    {
     "name": "stdout",
     "output_type": "stream",
     "text": [
      "Epoch Metrics Saved!\n",
      "\n",
      "\n",
      "     Train/Valid\n",
      "       Loss: 0.121 | 0.201\n",
      "       accuracy: 0.992 | 0.974\n",
      "       precision: 0.897 | 0.800\n",
      "       recall: 0.891 | 0.879\n",
      "       f1_score: 0.887 | 0.826\n",
      "       specificity: 0.996 | 0.978\n",
      "       iou: 0.809 | 0.718\n",
      "Model Saved\n",
      "============================================================\n",
      "Epoch: 24:\n"
     ]
    },
    {
     "name": "stderr",
     "output_type": "stream",
     "text": [
      "100%|██████████| 70/70 [00:51<00:00,  1.36it/s]\n"
     ]
    },
    {
     "name": "stdout",
     "output_type": "stream",
     "text": [
      "Epoch Metrics Saved!\n"
     ]
    },
    {
     "name": "stderr",
     "output_type": "stream",
     "text": [
      "100%|██████████| 20/20 [00:10<00:00,  1.88it/s]\n"
     ]
    },
    {
     "name": "stdout",
     "output_type": "stream",
     "text": [
      "Epoch Metrics Saved!\n",
      "\n",
      "\n",
      "     Train/Valid\n",
      "       Loss: 0.120 | 0.300\n",
      "       accuracy: 0.992 | 0.974\n",
      "       precision: 0.898 | 0.800\n",
      "       recall: 0.891 | 0.880\n",
      "       f1_score: 0.888 | 0.826\n",
      "       specificity: 0.996 | 0.978\n",
      "       iou: 0.810 | 0.718\n",
      "============================================================\n",
      "Epoch: 25:\n"
     ]
    },
    {
     "name": "stderr",
     "output_type": "stream",
     "text": [
      "100%|██████████| 70/70 [00:52<00:00,  1.34it/s]\n"
     ]
    },
    {
     "name": "stdout",
     "output_type": "stream",
     "text": [
      "Epoch Metrics Saved!\n"
     ]
    },
    {
     "name": "stderr",
     "output_type": "stream",
     "text": [
      "100%|██████████| 20/20 [00:10<00:00,  1.89it/s]\n"
     ]
    },
    {
     "name": "stdout",
     "output_type": "stream",
     "text": [
      "Epoch Metrics Saved!\n",
      "\n",
      "\n",
      "     Train/Valid\n",
      "       Loss: 0.116 | 0.223\n",
      "       accuracy: 0.992 | 0.974\n",
      "       precision: 0.899 | 0.802\n",
      "       recall: 0.892 | 0.879\n",
      "       f1_score: 0.889 | 0.827\n",
      "       specificity: 0.996 | 0.978\n",
      "       iou: 0.811 | 0.720\n",
      "============================================================\n",
      "Epoch: 26:\n"
     ]
    },
    {
     "name": "stderr",
     "output_type": "stream",
     "text": [
      "100%|██████████| 70/70 [00:52<00:00,  1.33it/s]\n"
     ]
    },
    {
     "name": "stdout",
     "output_type": "stream",
     "text": [
      "Epoch Metrics Saved!\n"
     ]
    },
    {
     "name": "stderr",
     "output_type": "stream",
     "text": [
      "100%|██████████| 20/20 [00:10<00:00,  1.88it/s]\n"
     ]
    },
    {
     "name": "stdout",
     "output_type": "stream",
     "text": [
      "Epoch Metrics Saved!\n",
      "\n",
      "\n",
      "     Train/Valid\n",
      "       Loss: 0.118 | 0.401\n",
      "       accuracy: 0.992 | 0.974\n",
      "       precision: 0.900 | 0.799\n",
      "       recall: 0.893 | 0.879\n",
      "       f1_score: 0.890 | 0.825\n",
      "       specificity: 0.996 | 0.978\n",
      "       iou: 0.813 | 0.717\n",
      "============================================================\n",
      "Epoch: 27:\n"
     ]
    },
    {
     "name": "stderr",
     "output_type": "stream",
     "text": [
      "100%|██████████| 70/70 [00:53<00:00,  1.32it/s]\n"
     ]
    },
    {
     "name": "stdout",
     "output_type": "stream",
     "text": [
      "Epoch Metrics Saved!\n"
     ]
    },
    {
     "name": "stderr",
     "output_type": "stream",
     "text": [
      "100%|██████████| 20/20 [00:10<00:00,  1.93it/s]\n"
     ]
    },
    {
     "name": "stdout",
     "output_type": "stream",
     "text": [
      "Epoch Metrics Saved!\n",
      "\n",
      "\n",
      "     Train/Valid\n",
      "       Loss: 0.121 | 0.285\n",
      "       accuracy: 0.992 | 0.974\n",
      "       precision: 0.900 | 0.799\n",
      "       recall: 0.894 | 0.879\n",
      "       f1_score: 0.891 | 0.826\n",
      "       specificity: 0.996 | 0.978\n",
      "       iou: 0.814 | 0.718\n",
      "============================================================\n",
      "Epoch: 28:\n"
     ]
    },
    {
     "name": "stderr",
     "output_type": "stream",
     "text": [
      "100%|██████████| 70/70 [00:52<00:00,  1.32it/s]\n"
     ]
    },
    {
     "name": "stdout",
     "output_type": "stream",
     "text": [
      "Epoch Metrics Saved!\n"
     ]
    },
    {
     "name": "stderr",
     "output_type": "stream",
     "text": [
      "100%|██████████| 20/20 [00:10<00:00,  1.90it/s]\n"
     ]
    },
    {
     "name": "stdout",
     "output_type": "stream",
     "text": [
      "Epoch Metrics Saved!\n",
      "\n",
      "\n",
      "     Train/Valid\n",
      "       Loss: 0.118 | 0.339\n",
      "       accuracy: 0.992 | 0.973\n",
      "       precision: 0.901 | 0.798\n",
      "       recall: 0.895 | 0.879\n",
      "       f1_score: 0.892 | 0.825\n",
      "       specificity: 0.996 | 0.978\n",
      "       iou: 0.815 | 0.717\n",
      "============================================================\n",
      "Epoch: 29:\n"
     ]
    },
    {
     "name": "stderr",
     "output_type": "stream",
     "text": [
      "100%|██████████| 70/70 [00:53<00:00,  1.31it/s]\n"
     ]
    },
    {
     "name": "stdout",
     "output_type": "stream",
     "text": [
      "Epoch Metrics Saved!\n"
     ]
    },
    {
     "name": "stderr",
     "output_type": "stream",
     "text": [
      "100%|██████████| 20/20 [00:10<00:00,  1.85it/s]\n"
     ]
    },
    {
     "name": "stdout",
     "output_type": "stream",
     "text": [
      "Epoch Metrics Saved!\n",
      "\n",
      "\n",
      "     Train/Valid\n",
      "       Loss: 0.122 | 0.305\n",
      "       accuracy: 0.992 | 0.973\n",
      "       precision: 0.902 | 0.798\n",
      "       recall: 0.895 | 0.880\n",
      "       f1_score: 0.893 | 0.825\n",
      "       specificity: 0.996 | 0.978\n",
      "       iou: 0.816 | 0.717\n",
      "============================================================\n",
      "Epoch: 30:\n"
     ]
    },
    {
     "name": "stderr",
     "output_type": "stream",
     "text": [
      "100%|██████████| 70/70 [00:52<00:00,  1.33it/s]\n"
     ]
    },
    {
     "name": "stdout",
     "output_type": "stream",
     "text": [
      "Epoch Metrics Saved!\n"
     ]
    },
    {
     "name": "stderr",
     "output_type": "stream",
     "text": [
      "100%|██████████| 20/20 [00:10<00:00,  1.86it/s]"
     ]
    },
    {
     "name": "stdout",
     "output_type": "stream",
     "text": [
      "Epoch Metrics Saved!\n",
      "\n",
      "\n",
      "     Train/Valid\n",
      "       Loss: 0.115 | 0.235\n",
      "       accuracy: 0.992 | 0.974\n",
      "       precision: 0.902 | 0.799\n",
      "       recall: 0.896 | 0.880\n",
      "       f1_score: 0.894 | 0.826\n",
      "       specificity: 0.996 | 0.978\n",
      "       iou: 0.817 | 0.718\n",
      "============================================================\n"
     ]
    },
    {
     "name": "stderr",
     "output_type": "stream",
     "text": [
      "\n"
     ]
    }
   ],
   "source": [
    "best_loss = np.inf\n",
    "train_lossess = []\n",
    "valid_lossess = []\n",
    "iou_scores = []\n",
    "pixel_accuracy_scores = []\n",
    "epochs = 30\n",
    "train_metrics = Metrics()\n",
    "valid_metrics = Metrics()\n",
    "for i in range(epochs):\n",
    "    print(f'Epoch: {i+1}:')\n",
    "    train_loss, train_metrics_values = train_fn(train_dl, model, optimizer , train_metrics)\n",
    "    train_lossess.append(train_loss)\n",
    "    valid_loss,valid_metrics_values = eval_fn(test_dl, model , valid_metrics)\n",
    "    valid_lossess.append(valid_loss)\n",
    "    scheduler.step(valid_loss)\n",
    "    print('\\n')\n",
    "    print(\"     Train/Valid\")\n",
    "    print(f\"       Loss: {train_loss:.3f} | {valid_loss:.3f}\")\n",
    "    for key in train_metrics_values.keys():\n",
    "        print(f\"       {key}: {train_metrics_values[key]:.3f} | {valid_metrics_values[key]:.3f}\")\n",
    "\n",
    "    if valid_loss < best_loss:\n",
    "        best_loss = valid_loss\n",
    "        torch.save(model.state_dict(), f'models/best_model.pth')\n",
    "        print('Model Saved')\n",
    "    print('============================================================')"
   ]
  },
  {
   "cell_type": "code",
   "execution_count": 21,
   "metadata": {},
   "outputs": [],
   "source": [
    "def visualize_metrics(train_metrics, valid_metrics ,\n",
    "                           metric_name , figsize=(10, 7), \n",
    "                             ):\n",
    "    \"\"\"\n",
    "    Visualize the data\n",
    "    \"\"\"\n",
    "    plt.figure(figsize=figsize)\n",
    "    plt.plot(train_metrics.get_epochs_values()[metric_name], color='blue', label=f'Train {metric_name.title()}')\n",
    "    plt.plot(valid_metrics.get_epochs_values()[metric_name], color='red', label=f'Valid {metric_name.title()}')\n",
    "    plt.xlabel('Epochs')\n",
    "    plt.ylabel(f\"{metric_name.title()}\")\n",
    "    plt.title(f'{metric_name.title()} over epochs')\n",
    "    plt.legend()\n",
    "    plt.show()"
   ]
  },
  {
   "cell_type": "code",
   "execution_count": 9,
   "metadata": {},
   "outputs": [
    {
     "data": {
      "image/png": "[encoded data removed]",
      "text/plain": [
       "<Figure size 1000x700 with 1 Axes>"
      ]
     },
     "metadata": {},
     "output_type": "display_data"
    }
   ],
   "source": [
    "plt.figure(figsize=(10, 7))\n",
    "plt.plot(train_lossess, color='blue', label='train loss')\n",
    "plt.plot(valid_lossess, color='red', label='valid loss')\n",
    "plt.xlabel('Epochs')\n",
    "plt.ylabel('Loss')\n",
    "plt.title('Loss over epochs')\n",
    "plt.legend()\n",
    "plt.show()"
   ]
  },
  {
   "cell_type": "code",
   "execution_count": 15,
   "metadata": {},
   "outputs": [
    {
     "data": {
      "image/png": "[encoded data removed]",
      "text/plain": [
       "<Figure size 1000x700 with 1 Axes>"
      ]
     },
     "metadata": {},
     "output_type": "display_data"
    }
   ],
   "source": [
    "plt.figure(figsize=(10, 7))\n",
    "plt.plot(train_metrics.get_epochs_values()['accuracy'], color='blue', label='train pixel accuracy')\n",
    "plt.plot(valid_metrics.get_epochs_values()['accuracy'], color='red', label='valid pixel accuracy')\n",
    "plt.xlabel('Epochs')\n",
    "plt.ylabel('Accuracy')\n",
    "plt.title('Accuracy over epochs')\n",
    "plt.legend()\n",
    "plt.show()"
   ]
  },
  {
   "cell_type": "code",
   "execution_count": 16,
   "metadata": {},
   "outputs": [
    {
     "data": {
      "image/png": "[encoded data removed]",
      "text/plain": [
       "<Figure size 1000x700 with 1 Axes>"
      ]
     },
     "metadata": {},
     "output_type": "display_data"
    }
   ],
   "source": [
    "plt.figure(figsize=(10, 7))\n",
    "plt.plot(train_metrics.get_epochs_values()['iou'], color='blue', label='train iou')\n",
    "plt.plot(valid_metrics.get_epochs_values()['iou'], color='red', label='valid iou')\n",
    "plt.xlabel('Epochs')\n",
    "plt.ylabel('IoU')\n",
    "plt.title('IoU over epochs')\n",
    "plt.legend()\n",
    "plt.show()"
   ]
  },
  {
   "cell_type": "code",
   "execution_count": 17,
   "metadata": {},
   "outputs": [
    {
     "data": {
      "image/png": "[encoded data removed]",
      "text/plain": [
       "<Figure size 1000x700 with 1 Axes>"
      ]
     },
     "metadata": {},
     "output_type": "display_data"
    }
   ],
   "source": [
    "plt.figure(figsize=(10, 7))\n",
    "plt.plot(train_metrics.get_epochs_values()['precision'], color='blue', label='train precision')\n",
    "plt.plot(valid_metrics.get_epochs_values()['precision'], color='red', label='valid precision')\n",
    "plt.xlabel('Epochs')\n",
    "plt.ylabel('Precision')\n",
    "plt.title('Precision over epochs')\n",
    "plt.legend()\n",
    "plt.show()\n"
   ]
  },
  {
   "cell_type": "code",
   "execution_count": 13,
   "metadata": {},
   "outputs": [],
   "source": [
    "np.save('reports/VV/train_lossess.npy',train_lossess)\n",
    "np.save('reports/VV/valid_lossess.npy',valid_lossess)\n",
    "np.save('reports/VV/train_accuracy.npy',train_metrics.get_epochs_values()['accuracy'])\n",
    "np.save('reports/VV/valid_accuracy.npy',valid_metrics.get_epochs_values()['accuracy'])\n",
    "np.save('reports/VV/train_iou.npy',train_metrics.get_epochs_values()['iou'])\n",
    "np.save('reports/VV/valid_iou.npy',valid_metrics.get_epochs_values()['iou'])\n",
    "np.save('reports/VV/train_precision.npy',train_metrics.get_epochs_values()['precision'])\n",
    "np.save('reports/VV/valid_precision.npy',valid_metrics.get_epochs_values()['precision'])\n",
    "np.save('reports/VV/train_recall.npy',train_metrics.get_epochs_values()['recall'])\n",
    "np.save('reports/VV/valid_recall.npy',valid_metrics.get_epochs_values()['recall'])\n",
    "np.save('reports/VV/train_f1.npy',train_metrics.get_epochs_values()['f1_score'])\n",
    "np.save('reports/VV/valid_f1.npy',valid_metrics.get_epochs_values()['f1_score'])\n",
    "np.save('reports/VV/train_specificity.npy',train_metrics.get_epochs_values()['specificity'])\n",
    "np.save('reports/VV/valid_specificity.npy',valid_metrics.get_epochs_values()['specificity'])\n"
   ]
  },
  {
   "cell_type": "code",
   "execution_count": 20,
   "metadata": {},
   "outputs": [
    {
     "data": {
      "text/plain": [
       "'Name'"
      ]
     },
     "execution_count": 20,
     "metadata": {},
     "output_type": "execute_result"
    }
   ],
   "source": [
    "'name'.title()"
   ]
  },
  {
   "cell_type": "code",
   "execution_count": null,
   "metadata": {},
   "outputs": [],
   "source": []
  }
 ],
 "metadata": {
  "kernelspec": {
   "display_name": "cv",
   "language": "python",
   "name": "python3"
  },
  "language_info": {
   "codemirror_mode": {
    "name": "ipython",
    "version": 3
   },
   "file_extension": ".py",
   "mimetype": "text/x-python",
   "name": "python",
   "nbconvert_exporter": "python",
   "pygments_lexer": "ipython3",
   "version": "3.11.3"
  },
  "orig_nbformat": 4
 },
 "nbformat": 4,
 "nbformat_minor": 2
}
